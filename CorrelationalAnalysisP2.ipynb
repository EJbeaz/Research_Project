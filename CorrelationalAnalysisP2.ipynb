{
 "cells": [
  {
   "cell_type": "code",
   "execution_count": 7,
   "id": "e6dab637",
   "metadata": {},
   "outputs": [
    {
     "name": "stdout",
     "output_type": "stream",
     "text": [
      "                               Dataset  HAMethod1  HAMethod2  HA Magnitude\n",
      "0             Domestic Football (Mens)       0.59       0.62          1.35\n",
      "1        International Football (Mens)       0.60       0.63          1.35\n",
      "2      International Football (Womens)       0.60       0.61          1.59\n",
      "3                 International Rugby        0.59       0.60          1.20\n",
      "4                Tennis HA Only (Mens)        NaN       0.60          1.31\n",
      "5                Tennis Control (Mens)        NaN       0.50          1.00\n",
      "6  No Home Advantage (Null Hypothesis)       0.50       0.50          1.00\n"
     ]
    }
   ],
   "source": [
    "import pandas as pd\n",
    "from scipy.stats import f_oneway\n",
    "from statsmodels.stats.multicomp import pairwise_tukeyhsd\n",
    "\n",
    "# Load the CSV data\n",
    "file_path = \"/Users/ejbeazleigh/Desktop/Dissertation/DissertationResults/ResearchProjectDataResults.csv\"\n",
    "data = pd.read_csv(file_path)\n",
    "print(data)"
   ]
  },
  {
   "cell_type": "code",
   "execution_count": 11,
   "id": "ce0b4c00",
   "metadata": {},
   "outputs": [
    {
     "name": "stdout",
     "output_type": "stream",
     "text": [
      "                               Dataset  HAMethod1  HAMethod2  HA Magnitude\n",
      "0             Domestic Football (Mens)      0.590       0.62          1.35\n",
      "1        International Football (Mens)      0.600       0.63          1.35\n",
      "2      International Football (Womens)      0.600       0.61          1.59\n",
      "3                 International Rugby       0.590       0.60          1.20\n",
      "4                Tennis HA Only (Mens)      0.576       0.60          1.31\n",
      "5                Tennis Control (Mens)      0.576       0.50          1.00\n",
      "6  No Home Advantage (Null Hypothesis)      0.500       0.50          1.00\n"
     ]
    }
   ],
   "source": [
    "mean_HAMethod1 = data['HAMethod1'].mean()\n",
    "data['HAMethod1'].fillna(mean_HAMethod1, inplace=True)\n",
    "# Print loaded data for verification\n",
    "print(data)"
   ]
  },
  {
   "cell_type": "code",
   "execution_count": 14,
   "id": "c358cf3b",
   "metadata": {},
   "outputs": [
    {
     "name": "stdout",
     "output_type": "stream",
     "text": [
      "Data after removing rows:\n",
      "                           Dataset  HAMethod1  HAMethod2  HA Magnitude\n",
      "0         Domestic Football (Mens)      0.590       0.62          1.35\n",
      "1    International Football (Mens)      0.600       0.63          1.35\n",
      "2  International Football (Womens)      0.600       0.61          1.59\n",
      "3             International Rugby       0.590       0.60          1.20\n",
      "4            Tennis HA Only (Mens)      0.576       0.60          1.31\n"
     ]
    }
   ],
   "source": [
    "# Remove the specified rows by index\n",
    "data_cleaned = data.drop(data.index[rows_to_remove])\n",
    "\n",
    "print(\"Data after removing rows:\")\n",
    "print(data_cleaned)  # Print the cleaned data to check if rows are removed"
   ]
  },
  {
   "cell_type": "code",
   "execution_count": 17,
   "id": "911ae896",
   "metadata": {},
   "outputs": [
    {
     "name": "stderr",
     "output_type": "stream",
     "text": [
      "/Library/Frameworks/Python.framework/Versions/3.11/lib/python3.11/site-packages/statsmodels/sandbox/stats/multicomp.py:1300: RuntimeWarning: divide by zero encountered in divide\n",
      "  st_range = np.abs(meandiffs) / std_pairs #studentized range statistic\n"
     ]
    },
    {
     "name": "stdout",
     "output_type": "stream",
     "text": [
      "Tukey's results for HAMethod1:\n",
      "Multiple Comparison of Means - Tukey HSD, FWER=0.05\n",
      "===================================================\n",
      "group1 group2 meandiff p-adj   lower  upper  reject\n",
      "---------------------------------------------------\n",
      " 0.576   0.59   -0.035  0.978 -1.0559 0.9859  False\n",
      " 0.576    0.6     0.16 0.6809 -0.8609 1.1809  False\n",
      "  0.59    0.6    0.195 0.4895 -0.6386 1.0286  False\n",
      "---------------------------------------------------\n",
      "\n",
      "\n",
      "Tukey's results for HAMethod2:\n",
      "Multiple Comparison of Means - Tukey HSD, FWER=0.05\n",
      "===================================================\n",
      "group1 group2 meandiff p-adj   lower  upper  reject\n",
      "---------------------------------------------------\n",
      "   0.6   0.61    0.335 0.3162 -1.8757 2.5457  False\n",
      "   0.6   0.62    0.095 0.7875 -2.1157 2.3057  False\n",
      "   0.6   0.63    0.095 0.7875 -2.1157 2.3057  False\n",
      "  0.61   0.62    -0.24 0.4783 -2.7927 2.3127  False\n",
      "  0.61   0.63    -0.24 0.4783 -2.7927 2.3127  False\n",
      "  0.62   0.63      0.0    1.0 -2.5527 2.5527  False\n",
      "---------------------------------------------------\n",
      "\n",
      "\n",
      "Tukey's results for HA Magnitude:\n",
      "Multiple Comparison of Means - Tukey HSD, FWER=0.05\n",
      "===============================================\n",
      "group1 group2 meandiff p-adj lower upper reject\n",
      "-----------------------------------------------\n",
      "   1.2   1.31     0.11   0.0  0.11  0.11   True\n",
      "   1.2   1.35     0.15   0.0  0.15  0.15   True\n",
      "   1.2   1.59     0.39   0.0  0.39  0.39   True\n",
      "  1.31   1.35     0.04   0.0  0.04  0.04   True\n",
      "  1.31   1.59     0.28   0.0  0.28  0.28   True\n",
      "  1.35   1.59     0.24   0.0  0.24  0.24   True\n",
      "-----------------------------------------------\n",
      "\n",
      "\n"
     ]
    }
   ],
   "source": [
    "import pandas as pd\n",
    "from statsmodels.stats.multicomp import MultiComparison, pairwise_tukeyhsd\n",
    "# Perform Tukey's analysis for each column\n",
    "columns_to_analyze = ['HAMethod1', 'HAMethod2', 'HA Magnitude']\n",
    "tukey_results = {}\n",
    "for column in columns_to_analyze:\n",
    "    mc = MultiComparison(data_cleaned['HA Magnitude'], data_cleaned[column])\n",
    "    result = mc.tukeyhsd()\n",
    "    tukey_results[column] = result\n",
    "\n",
    "# Display Tukey's results\n",
    "for column, result in tukey_results.items():\n",
    "    print(f\"Tukey's results for {column}:\")\n",
    "    print(result)\n",
    "    print(\"\\n\")"
   ]
  }
 ],
 "metadata": {
  "kernelspec": {
   "display_name": "Python 3 (ipykernel)",
   "language": "python",
   "name": "python3"
  },
  "language_info": {
   "codemirror_mode": {
    "name": "ipython",
    "version": 3
   },
   "file_extension": ".py",
   "mimetype": "text/x-python",
   "name": "python",
   "nbconvert_exporter": "python",
   "pygments_lexer": "ipython3",
   "version": "3.11.0"
  }
 },
 "nbformat": 4,
 "nbformat_minor": 5
}
