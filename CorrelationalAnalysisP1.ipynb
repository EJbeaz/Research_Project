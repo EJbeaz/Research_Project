{
 "cells": [
  {
   "cell_type": "code",
   "execution_count": 7,
   "id": "2ccf6e03",
   "metadata": {},
   "outputs": [
    {
     "name": "stdout",
     "output_type": "stream",
     "text": [
      "       MFBALL HAMAG  IFBALL HAMAG  WFBALL HAMAG  RUGBY HAMAG  TENNIS HAMAG\n",
      "0          4.000000           0.0      1.000000          1.0           2.0\n",
      "1          2.000000           2.0      1.333333          2.0           2.0\n",
      "2          0.333333           2.0      2.000000          1.0           0.0\n",
      "3          1.000000           1.0      3.000000          1.0           0.0\n",
      "4          2.000000           3.0      1.500000          2.0           2.0\n",
      "...             ...           ...           ...          ...           ...\n",
      "44552           NaN           3.0           NaN          NaN           NaN\n",
      "44553           NaN           0.0           NaN          NaN           NaN\n",
      "44554           NaN           0.5           NaN          NaN           NaN\n",
      "44555           NaN           0.5           NaN          NaN           NaN\n",
      "44556           NaN           1.0           NaN          NaN           NaN\n",
      "\n",
      "[44557 rows x 5 columns]\n"
     ]
    }
   ],
   "source": [
    "import pandas as pd\n",
    "file_path = \"/Users/ejbeazleigh/Desktop/Dissertation/DissertationResults/ResearchProjectMagnitudeScores.csv\"\n",
    "data = pd.read_csv(file_path)\n",
    "print(data)"
   ]
  },
  {
   "cell_type": "code",
   "execution_count": 5,
   "id": "2be9d3ed",
   "metadata": {},
   "outputs": [
    {
     "name": "stdout",
     "output_type": "stream",
     "text": [
      "['MFBALL HAMAG', 'IFBALL HAMAG', 'WFBALL HAMAG', 'RUGBY HAMAG', 'TENNIS HAMAG']\n"
     ]
    }
   ],
   "source": [
    "headers = data.columns.tolist()\n",
    "print(headers)"
   ]
  },
  {
   "cell_type": "code",
   "execution_count": 6,
   "id": "933b72bb",
   "metadata": {},
   "outputs": [
    {
     "data": {
      "text/html": [
       "<div>\n",
       "<style scoped>\n",
       "    .dataframe tbody tr th:only-of-type {\n",
       "        vertical-align: middle;\n",
       "    }\n",
       "\n",
       "    .dataframe tbody tr th {\n",
       "        vertical-align: top;\n",
       "    }\n",
       "\n",
       "    .dataframe thead th {\n",
       "        text-align: right;\n",
       "    }\n",
       "</style>\n",
       "<table border=\"1\" class=\"dataframe\">\n",
       "  <thead>\n",
       "    <tr style=\"text-align: right;\">\n",
       "      <th></th>\n",
       "      <th>Group 1</th>\n",
       "      <th>Group 2</th>\n",
       "      <th>T-Statistic</th>\n",
       "      <th>P-Value</th>\n",
       "    </tr>\n",
       "  </thead>\n",
       "  <tbody>\n",
       "    <tr>\n",
       "      <th>0</th>\n",
       "      <td>RUGBY HAMAG</td>\n",
       "      <td>TENNIS HAMAG</td>\n",
       "      <td>5.792666</td>\n",
       "      <td>1.073901e-08</td>\n",
       "    </tr>\n",
       "    <tr>\n",
       "      <th>1</th>\n",
       "      <td>MFBALL HAMAG</td>\n",
       "      <td>WFBALL HAMAG</td>\n",
       "      <td>-4.540770</td>\n",
       "      <td>6.666022e-06</td>\n",
       "    </tr>\n",
       "    <tr>\n",
       "      <th>2</th>\n",
       "      <td>MFBALL HAMAG</td>\n",
       "      <td>IFBALL HAMAG</td>\n",
       "      <td>-4.598475</td>\n",
       "      <td>5.104865e-06</td>\n",
       "    </tr>\n",
       "    <tr>\n",
       "      <th>3</th>\n",
       "      <td>RUGBY HAMAG</td>\n",
       "      <td>MFBALL HAMAG</td>\n",
       "      <td>5.739765</td>\n",
       "      <td>1.447611e-08</td>\n",
       "    </tr>\n",
       "  </tbody>\n",
       "</table>\n",
       "</div>"
      ],
      "text/plain": [
       "        Group 1       Group 2  T-Statistic       P-Value\n",
       "0   RUGBY HAMAG  TENNIS HAMAG     5.792666  1.073901e-08\n",
       "1  MFBALL HAMAG  WFBALL HAMAG    -4.540770  6.666022e-06\n",
       "2  MFBALL HAMAG  IFBALL HAMAG    -4.598475  5.104865e-06\n",
       "3   RUGBY HAMAG  MFBALL HAMAG     5.739765  1.447611e-08"
      ]
     },
     "execution_count": 6,
     "metadata": {},
     "output_type": "execute_result"
    }
   ],
   "source": [
    "import pandas as pd\n",
    "from scipy.stats import ttest_ind\n",
    "\n",
    "# Remove rows with NA values\n",
    "data_cleaned = data.dropna()\n",
    "\n",
    "# Define the columns for the comparisons\n",
    "columns_to_compare = [\n",
    "    ('RUGBY HAMAG', 'TENNIS HAMAG'),\n",
    "    ('MFBALL HAMAG', 'WFBALL HAMAG'),\n",
    "    ('MFBALL HAMAG', 'IFBALL HAMAG'),\n",
    "    ('RUGBY HAMAG', 'MFBALL HAMAG')\n",
    "]\n",
    "\n",
    "# Perform the comparisons and calculate p-values\n",
    "results = []\n",
    "for col1, col2 in columns_to_compare:\n",
    "    group1 = data_cleaned[col1]\n",
    "    group2 = data_cleaned[col2]\n",
    "    \n",
    "    t_stat, p_value = ttest_ind(group1, group2)\n",
    "    results.append((col1, col2, t_stat, p_value))\n",
    "\n",
    "# Create a DataFrame to display the results\n",
    "results_df = pd.DataFrame(results, columns=['Group 1', 'Group 2', 'T-Statistic', 'P-Value'])\n",
    "\n",
    "# Display the results\n",
    "results_df\n"
   ]
  },
  {
   "cell_type": "code",
   "execution_count": null,
   "id": "9bf7dd93",
   "metadata": {},
   "outputs": [],
   "source": []
  }
 ],
 "metadata": {
  "kernelspec": {
   "display_name": "Python 3 (ipykernel)",
   "language": "python",
   "name": "python3"
  },
  "language_info": {
   "codemirror_mode": {
    "name": "ipython",
    "version": 3
   },
   "file_extension": ".py",
   "mimetype": "text/x-python",
   "name": "python",
   "nbconvert_exporter": "python",
   "pygments_lexer": "ipython3",
   "version": "3.11.0"
  }
 },
 "nbformat": 4,
 "nbformat_minor": 5
}
